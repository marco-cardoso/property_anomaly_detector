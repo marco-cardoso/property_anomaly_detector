{
 "cells": [
  {
   "cell_type": "code",
   "execution_count": 98,
   "metadata": {},
   "outputs": [
    {
     "name": "stdout",
     "output_type": "stream",
     "text": [
      "The autoreload extension is already loaded. To reload it, use:\n",
      "  %reload_ext autoreload\n"
     ]
    }
   ],
   "source": [
    "import re\n",
    "import pandas as pd\n",
    "import numpy as np\n",
    "\n",
    "import folium as fl\n",
    "\n",
    "from folium import plugins\n",
    "import geopandas as gpd\n",
    "import matplotlib.pyplot as plt\n",
    "\n",
    "\n",
    "from property_anomaly_detector.features import read_df\n",
    "\n",
    "%matplotlib inline\n",
    "\n",
    "%load_ext autoreload\n",
    "%autoreload 2"
   ]
  },
  {
   "cell_type": "code",
   "execution_count": 100,
   "metadata": {},
   "outputs": [
    {
     "data": {
      "text/html": [
       "<div>\n",
       "<style scoped>\n",
       "    .dataframe tbody tr th:only-of-type {\n",
       "        vertical-align: middle;\n",
       "    }\n",
       "\n",
       "    .dataframe tbody tr th {\n",
       "        vertical-align: top;\n",
       "    }\n",
       "\n",
       "    .dataframe thead th {\n",
       "        text-align: right;\n",
       "    }\n",
       "</style>\n",
       "<table border=\"1\" class=\"dataframe\">\n",
       "  <thead>\n",
       "    <tr style=\"text-align: right;\">\n",
       "      <th></th>\n",
       "      <th>latitude</th>\n",
       "      <th>longitude</th>\n",
       "      <th>monthly_rental_price</th>\n",
       "      <th>district</th>\n",
       "      <th>postcode</th>\n",
       "      <th>area_name</th>\n",
       "    </tr>\n",
       "  </thead>\n",
       "  <tbody>\n",
       "    <tr>\n",
       "      <th>0</th>\n",
       "      <td>51.541126</td>\n",
       "      <td>0.073507</td>\n",
       "      <td>5850</td>\n",
       "      <td>IG11</td>\n",
       "      <td>IG</td>\n",
       "      <td>Ilford</td>\n",
       "    </tr>\n",
       "    <tr>\n",
       "      <th>1</th>\n",
       "      <td>51.540340</td>\n",
       "      <td>0.077076</td>\n",
       "      <td>5000</td>\n",
       "      <td>IG11</td>\n",
       "      <td>IG</td>\n",
       "      <td>Ilford</td>\n",
       "    </tr>\n",
       "    <tr>\n",
       "      <th>2</th>\n",
       "      <td>51.537582</td>\n",
       "      <td>0.076489</td>\n",
       "      <td>3500</td>\n",
       "      <td>IG11</td>\n",
       "      <td>IG</td>\n",
       "      <td>Ilford</td>\n",
       "    </tr>\n",
       "    <tr>\n",
       "      <th>3</th>\n",
       "      <td>51.540382</td>\n",
       "      <td>0.083914</td>\n",
       "      <td>2800</td>\n",
       "      <td>IG11</td>\n",
       "      <td>IG</td>\n",
       "      <td>Ilford</td>\n",
       "    </tr>\n",
       "    <tr>\n",
       "      <th>4</th>\n",
       "      <td>51.541866</td>\n",
       "      <td>0.077420</td>\n",
       "      <td>2490</td>\n",
       "      <td>IG11</td>\n",
       "      <td>IG</td>\n",
       "      <td>Ilford</td>\n",
       "    </tr>\n",
       "  </tbody>\n",
       "</table>\n",
       "</div>"
      ],
      "text/plain": [
       "    latitude  longitude  monthly_rental_price district postcode area_name\n",
       "0  51.541126   0.073507                  5850     IG11       IG    Ilford\n",
       "1  51.540340   0.077076                  5000     IG11       IG    Ilford\n",
       "2  51.537582   0.076489                  3500     IG11       IG    Ilford\n",
       "3  51.540382   0.083914                  2800     IG11       IG    Ilford\n",
       "4  51.541866   0.077420                  2490     IG11       IG    Ilford"
      ]
     },
     "execution_count": 100,
     "metadata": {},
     "output_type": "execute_result"
    }
   ],
   "source": [
    "df = read_df.read_df()\n",
    "df.head()"
   ]
  },
  {
   "cell_type": "code",
   "execution_count": 101,
   "metadata": {},
   "outputs": [
    {
     "data": {
      "image/png": "[encoded data removed]",
      "text/plain": [
       "<Figure size 432x288 with 1 Axes>"
      ]
     },
     "metadata": {
      "needs_background": "light"
     },
     "output_type": "display_data"
    }
   ],
   "source": [
    "district_average_price = df.groupby(\"area_name\")['monthly_rental_price'].apply(np.median)\n",
    "\n",
    "district_average_price.sort_values(ascending=False)[:20].plot(kind='barh')\n",
    "plt.show()"
   ]
  },
  {
   "cell_type": "code",
   "execution_count": null,
   "metadata": {},
   "outputs": [],
   "source": []
  },
  {
   "cell_type": "code",
   "execution_count": null,
   "metadata": {},
   "outputs": [],
   "source": []
  }
 ],
 "metadata": {
  "kernelspec": {
   "display_name": "Python 3",
   "language": "python",
   "name": "python3"
  },
  "language_info": {
   "codemirror_mode": {
    "name": "ipython",
    "version": 3
   },
   "file_extension": ".py",
   "mimetype": "text/x-python",
   "name": "python",
   "nbconvert_exporter": "python",
   "pygments_lexer": "ipython3",
   "version": "3.7.7"
  }
 },
 "nbformat": 4,
 "nbformat_minor": 4
}
